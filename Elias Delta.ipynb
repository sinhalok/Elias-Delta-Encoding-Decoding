{
 "cells": [
  {
   "cell_type": "code",
   "execution_count": 1,
   "metadata": {},
   "outputs": [
    {
     "name": "stdout",
     "output_type": "stream",
     "text": [
      "37\n",
      "0011000101\n"
     ]
    }
   ],
   "source": [
    "#Elias Delta Encoding\n",
    "x=int(input())\n",
    "import math\n",
    "N = math.floor(math.log(x,2))\n",
    "L = math.floor(math.log(N+1,2))\n",
    "ans ='0'*L\n",
    "b = bin(N+1)[2:]\n",
    "ls = bin(x)[2:]\n",
    "ls = ls[len(ls)-N:]\n",
    "ans =ans+b+ls\n",
    "print(ans)"
   ]
  },
  {
   "cell_type": "code",
   "execution_count": 2,
   "metadata": {},
   "outputs": [
    {
     "name": "stdout",
     "output_type": "stream",
     "text": [
      "37\n"
     ]
    }
   ],
   "source": [
    "#Elias Delta Decoding\n",
    "L =len(ans.split('1')[0])\n",
    "N = int(ans[:2*L+1],2)-1\n",
    "r=int(ans[len(ans)-N:],2)\n",
    "x=2**N+r\n",
    "print(x)"
   ]
  },
  {
   "cell_type": "code",
   "execution_count": null,
   "metadata": {},
   "outputs": [],
   "source": []
  }
 ],
 "metadata": {
  "kernelspec": {
   "display_name": "Python 3",
   "language": "python",
   "name": "python3"
  },
  "language_info": {
   "codemirror_mode": {
    "name": "ipython",
    "version": 3
   },
   "file_extension": ".py",
   "mimetype": "text/x-python",
   "name": "python",
   "nbconvert_exporter": "python",
   "pygments_lexer": "ipython3",
   "version": "3.7.3"
  }
 },
 "nbformat": 4,
 "nbformat_minor": 2
}
